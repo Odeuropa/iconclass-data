{
 "cells": [
  {
   "cell_type": "code",
   "execution_count": 211,
   "id": "aa181000-30bd-4c2d-b5fe-743ffc175a9e",
   "metadata": {},
   "outputs": [],
   "source": [
    "import pandas as pd\n",
    "import os, fileinput\n",
    "from tqdm import tqdm\n",
    "\n",
    "def merge_into_en_kw(df):\n",
    "    in_pth_base = '../kw/en'\n",
    "    out_pth_base = 'updated_kws'\n",
    "    en_0_1_pth = 'kw_en_0_1.txt'\n",
    "    en_2_3_pth = 'kw_en_2_3.txt'\n",
    "    en_4_pth = 'kw_en_4.txt'\n",
    "    en_5_6_7_8_pth = 'kw_en_5_6_7_8.txt'\n",
    "    en_9_pth = 'kw_en_9.txt'\n",
    "    # en_all_pth = 'kw_en_keys.txt'\n",
    "    with open(f'{in_pth_base}/{en_0_1_pth}') as f:\n",
    "        kws_0_1 = f.readlines()\n",
    "    with open(f'{in_pth_base}/{en_2_3_pth}') as f:\n",
    "        kws_2_3 = f.readlines()\n",
    "    with open(f'{in_pth_base}/{en_4_pth}') as f:\n",
    "        kws_4 = f.readlines()\n",
    "    with open(f'{in_pth_base}/{en_5_6_7_8_pth}') as f:\n",
    "        kws_5_6_7_8 = f.readlines()\n",
    "    with open(f'{in_pth_base}/{en_9_pth}') as f:\n",
    "        kws_9 = f.readlines()\n",
    "    # with open(en_all_pth) as f:\n",
    "    #     kws_all = f.readlines()\n",
    "\n",
    "    concept_names = get_en_concept_names()   \n",
    "        \n",
    "    merge_candidates = df[df['ICONCLASS'].notnull()]\n",
    "    merge_candidates = merge_candidates[merge_candidates['ICONCLASS'].str.match('^([0-9])')]\n",
    "    merge_candidates = merge_candidates[merge_candidates['RELATED SCENT'].notnull()]\n",
    "    smell_kws = []\n",
    "    needs_correction = []\n",
    "    for _, row in tqdm(merge_candidates.iterrows()):\n",
    "        code = row[\"ICONCLASS\"]\n",
    "        scents = row[\"RELATED SCENT\"].split(',')\n",
    "        if code.startswith(('0','1')):\n",
    "            upd_list = kws_0_1\n",
    "        elif code.startswith(('2','3')):\n",
    "            upd_list = kws_2_3\n",
    "        elif code.startswith('4'):\n",
    "            upd_list = kws_4\n",
    "        elif code.startswith(('5','6','7','8')):\n",
    "            upd_list = kws_5_6_7_8\n",
    "        elif code.startswith('9'):\n",
    "            upd_list = kws_9\n",
    "        else:\n",
    "            print(row)\n",
    "        for scent in scents:\n",
    "            kw_string = f'{row[\"ICONCLASS\"]}|smell:{scent.strip()}{os.linesep}'\n",
    "            upd_list.append(kw_string)\n",
    "            # kws_all.append(kw_string)\n",
    "            if code in concept_names.keys():\n",
    "                smell_kws.append([code, concept_names[code], scent.strip()])\n",
    "            else:\n",
    "                needs_correction.append([code, scent.strip()])\n",
    "    with open(f'{out_pth_base}/{en_0_1_pth}', 'w') as f:\n",
    "        f.writelines(sorted(kws_0_1, key=lambda l: (l.split('|')[0], l.split('|')[1])))\n",
    "    with open(f'{out_pth_base}/{en_2_3_pth}', 'w') as f:\n",
    "        f.writelines(sorted(kws_2_3, key=lambda l: (l.split('|')[0], l.split('|')[1])))\n",
    "    with open(f'{out_pth_base}/{en_4_pth}', 'w') as f:\n",
    "        f.writelines(sorted(kws_4, key=lambda l: (l.split('|')[0], l.split('|')[1])))\n",
    "    with open(f'{out_pth_base}/{en_5_6_7_8_pth}', 'w') as f:\n",
    "        f.writelines(sorted(kws_5_6_7_8, key=lambda l: (l.split('|')[0], l.split('|')[1])))\n",
    "    with open(f'{out_pth_base}/{en_9_pth}', 'w') as f:\n",
    "        f.writelines(sorted(kws_9, key=lambda l: (l.split('|')[0], l.split('|')[1])))\n",
    "    # with open(en_all_pth, 'w') as f:\n",
    "    #     f.writelines(sorted(kws_all, key=lambda l: (l.split('|')[0], l.split('|')[1])))\n",
    "    return smell_kws, needs_correction\n",
    "\n",
    "def get_en_concept_names():\n",
    "    concept_to_name = {}\n",
    "    base = '../txt/en/txt_en'\n",
    "    file_pths = [f'{base}_0_1.txt',f'{base}_2_3.txt',f'{base}_4.txt',f'{base}_5_6_7_8.txt',f'{base}_9.txt']\n",
    "    for pth in file_pths:\n",
    "        with open(pth) as f:\n",
    "            for line in f:\n",
    "                try:\n",
    "                    concept, name = line.split('|')\n",
    "                except ValueError:\n",
    "                    pass\n",
    "                concept_to_name[concept] = name.rstrip()\n",
    "    return concept_to_name"
   ]
  },
  {
   "cell_type": "code",
   "execution_count": 215,
   "id": "2057a141-d15c-40e4-9217-59614d751d7c",
   "metadata": {},
   "outputs": [
    {
     "data": {
      "text/plain": [
       "'greenhouse, orangery'"
      ]
     },
     "execution_count": 215,
     "metadata": {},
     "output_type": "execute_result"
    }
   ],
   "source": [
    "get_en_concept_names()['47I53']"
   ]
  },
  {
   "cell_type": "code",
   "execution_count": 212,
   "id": "22d4cf8a-50da-4197-a226-dd63880255e2",
   "metadata": {
    "tags": []
   },
   "outputs": [
    {
     "name": "stderr",
     "output_type": "stream",
     "text": [
      "2it [00:00, 2726.23it/s]\n",
      "78it [00:00, 6295.94it/s]\n",
      "26it [00:00, 2436.26it/s]\n"
     ]
    }
   ],
   "source": [
    "smell_kws = []\n",
    "needs_correction = []\n",
    "for df_pth in ['odeuropa-taxonomy/spaces.csv', 'odeuropa-taxonomy/objects.csv', 'odeuropa-taxonomy/iconography.csv']:\n",
    "    df = pd.read_csv(df_pth)\n",
    "    if 'ICONCLASS' not in df.columns:\n",
    "        df = df.rename(columns={'ICONCLASS CODE': 'ICONCLASS'})\n",
    "    if 'RELATED SCENT' not in df.columns:\n",
    "        df = df.rename(columns={\"RELATED SCENT (see 'art historical scent wheel in google drive' for categories)\": \"RELATED SCENT\"})\n",
    "    smell_kw_per_df, needs_correction_per_df = merge_into_en_kw(df)\n",
    "    smell_kws.extend(smell_kw_per_df)\n",
    "    needs_correction.extend(needs_correction_per_df)"
   ]
  },
  {
   "cell_type": "code",
   "execution_count": 229,
   "id": "490384f5-d14b-4aa5-94c0-36f22c55629e",
   "metadata": {},
   "outputs": [],
   "source": [
    "check_df = pd.DataFrame(smell_kws).rename(columns={0:'code', 1:'name', 2:'assigned smell'}).to_csv('smell_kws_en.csv', index=None)\n",
    "# check_df.groupby(['code', 'name'])['assigned smell'].apply(list).to_csv('smell_kws_en.csv', index=None)\n",
    "pd.DataFrame(needs_correction).to_csv('iconclass_corrections.csv', index=None)\n"
   ]
  }
 ],
 "metadata": {
  "kernelspec": {
   "display_name": "Python 3 (ipykernel)",
   "language": "python",
   "name": "python3"
  },
  "language_info": {
   "codemirror_mode": {
    "name": "ipython",
    "version": 3
   },
   "file_extension": ".py",
   "mimetype": "text/x-python",
   "name": "python",
   "nbconvert_exporter": "python",
   "pygments_lexer": "ipython3",
   "version": "3.11.0"
  }
 },
 "nbformat": 4,
 "nbformat_minor": 5
}
